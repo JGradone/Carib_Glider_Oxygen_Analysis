{
 "cells": [
  {
   "attachments": {},
   "cell_type": "markdown",
   "metadata": {},
   "source": [
    "# Processing of AOML glider data for source water analysis\n",
    "\n",
    "The contents of this notebook will perform the following:<br>\n",
    "1) Extract just the transects by subsetting by time. This was PAINFUL but I couldn't think of a better way to do this. I loaded every dataset (34 total) and created a dictionary of transect start and end times and then saved the dictionary as a .pkl file. <br>\n",
    "2) "
   ]
  },
  {
   "attachments": {},
   "cell_type": "markdown",
   "metadata": {},
   "source": [
    "## Imports"
   ]
  },
  {
   "cell_type": "code",
   "execution_count": 1,
   "metadata": {},
   "outputs": [],
   "source": [
    "import pandas as pd\n",
    "import numpy as np\n",
    "import xarray as xr\n",
    "import matplotlib.pyplot as plt\n",
    "import matplotlib.ticker as mticker\n",
    "import glob\n",
    "import pickle\n",
    "import cartopy\n",
    "import cartopy.crs as ccrs\n",
    "import cartopy.feature as cfeature\n",
    "import cartopy.feature as cpf\n",
    "from cartopy.mpl.gridliner import LONGITUDE_FORMATTER, LATITUDE_FORMATTER\n",
    "import seawater as sw\n",
    "import cmocean.cm as cmo\n",
    "from scipy import integrate\n",
    "from scipy.interpolate import griddata\n",
    "\n",
    "sys.path.insert(0,'/Users/joegradone/SynologyDrive/Drive/Rutgers/Research/code/GitHub/Slocum-AD2CP/src/analysis')\n",
    "from analysis import gsw_rho, profile_mld, dist_from_lat_lon\n",
    "\n",
    "## because pandas is stupid\n",
    "class ChainedAssignent:\n",
    "    def __init__(self, chained=None):\n",
    "        acceptable = [None, 'warn', 'raise']\n",
    "        assert chained in acceptable, \"chained must be in \" + str(acceptable)\n",
    "        self.swcw = chained\n",
    "\n",
    "    def __enter__(self):\n",
    "        self.saved_swcw = pd.options.mode.chained_assignment\n",
    "        pd.options.mode.chained_assignment = self.swcw\n",
    "        return self\n",
    "\n",
    "    def __exit__(self, *args):\n",
    "        pd.options.mode.chained_assignment = self.saved_swcw"
   ]
  },
  {
   "attachments": {},
   "cell_type": "markdown",
   "metadata": {},
   "source": [
    "## Wrote this functin for calculating geostrophic velocity"
   ]
  },
  {
   "cell_type": "code",
   "execution_count": 218,
   "metadata": {},
   "outputs": [],
   "source": [
    "def transect_df_to_transport_ds(df, lat_grid_dy=0.05, geo_dz=2):\n",
    "    ## first drop where lon/lat are nan\n",
    "    df = df[df['latitude'].notna()]\n",
    "\n",
    "    ## find min and max latitude for lat grid\n",
    "    min_lat = df.latitude.values.min()\n",
    "    max_lat = df.latitude.values.max()\n",
    "    ## make latitude grid\n",
    "    lat_gridt = np.arange(min_lat, max_lat, lat_grid_dy) \n",
    "    ## take the mean longitude for calculating the grid distance\n",
    "    mean_lon = np.nanmean(df.longitude.values)\n",
    "\n",
    "    ## this is the grid dy in meters then (keep checking if 0.05 degree latitude grid sizing is ~5.5 km)\n",
    "    dy = dist_from_lat_lon(lat_gridt[0],mean_lon,lat_gridt[1],mean_lon)\n",
    "\n",
    "    ## Now make the vertical (depth) grid\n",
    "    geo_dz = 2 # meters\n",
    "    ## for the depth grid just go to the max depth rounded to the nearest geo_dz'th place (i.e. geo_dz = 2, round to 911 m to 912)\n",
    "    max_depth = round(df.ctd_pressure.max()/2)*2\n",
    "    depth_gridt = np.arange(0,max_depth,geo_dz)\n",
    "\n",
    "    ## now turn the temporary 1D grids into a 2D grid\n",
    "    lat_grid, depth_grid = np.meshgrid(lat_gridt,depth_gridt)\n",
    "\n",
    "    ## do the interpolation\n",
    "    griddensity     = griddata((df.latitude.values,df.ctd_pressure.values), df.density.values, (lat_grid, depth_grid), method='linear')\n",
    "    ## also do it for t,s,O2 because that's what the analysis will eventually focus on\n",
    "    gridtemperature = griddata((df.latitude.values,df.ctd_pressure.values), df.temperature.values, (lat_grid, depth_grid), method='linear')\n",
    "    gridsalinity    = griddata((df.latitude.values,df.ctd_pressure.values), df.salinity.values, (lat_grid, depth_grid), method='linear')\n",
    "    gridoxygen      = griddata((df.latitude.values,df.ctd_pressure.values), df.aanderaa4831_dissolved_oxygen_shifted, (lat_grid, depth_grid), method='linear')\n",
    "\n",
    "    ## now get the depth averaged current on this latitude grid\n",
    "    grid_du = np.empty(len(lat_gridt))\n",
    "    grid_du[:] = np.nan\n",
    "    ## also do this for the mean oxygen time shift, not as meaningful but still want to keep track of it\n",
    "    mean_time_shift = np.empty(len(lat_gridt))\n",
    "    mean_time_shift[:] = np.nan\n",
    "\n",
    "    ## Loop to compile DAC in each latitude bin and take mean\n",
    "    for x in np.arange(0,len(lat_gridt)-1):\n",
    "        subset_df = df[(df.latitude >= lat_gridt[x]) & (df.latitude <= lat_gridt[x+1])]\n",
    "        ## Do a quick DAC QAQC, set DAC greater than 10 m/s to nan\n",
    "        subset_df.du[np.abs(subset_df.du) > 5] = np.nan\n",
    "        ## take mean DAC in that latitude bin\n",
    "        grid_du[x] = np.nanmean(subset_df.du.values)\n",
    "        ## take mean oxygen time shift in that latitude bin\n",
    "        mean_time_shift[x] = np.nanmean(subset_df.time_shift.values)\n",
    "\n",
    "    ## Calculate d(rho)/d(y)\n",
    "    d_rho_dy = np.gradient(griddensity,dy,axis=1)\n",
    "\n",
    "    ## Calculate d(u)/d(z)\n",
    "    CF = sw.extras.f(df.latitude.values.mean())\n",
    "    g = sw.eos80.g(df.latitude.values.mean(), 0)\n",
    "    therm_wind = (1/CF)*(g/1027)*d_rho_dy\n",
    "\n",
    "    ## Now integrate d(u)/d(z) vertically to get u\n",
    "    ## replace nan with zeros for integration\n",
    "    therm_wind[np.where(np.isnan(therm_wind) ==True)] = 0\n",
    "    ## flip to integrate from bottom and then flip back\n",
    "    rel_Vg = integrate.cumtrapz(therm_wind[::-1,:], dx=geo_dz, initial=0, axis=0)[::-1,:]\n",
    "\n",
    "    ## Now add the reference velocity\n",
    "    vref = grid_du - np.nanmean(rel_Vg,axis=0)\n",
    "    Vgeo = rel_Vg + vref\n",
    "\n",
    "    ## Calculate mid-point time\n",
    "    start_time = np.nanmin(pd.to_datetime(df.ctd_time[df['ctd_time'].notna()]))\n",
    "    end_time   = np.nanmax(pd.to_datetime(df.ctd_time[df['ctd_time'].notna()]))\n",
    "    dt = (end_time-start_time)/2\n",
    "    mid_time = pd.to_datetime(df.ctd_time.values)[0]+dt\n",
    "\n",
    "    ## Now save!\n",
    "    geo_grid_ds = xr.Dataset(\n",
    "        data_vars=dict(\n",
    "            Vgeo =([\"depth\", \"latitude\"], Vgeo),\n",
    "            density =([\"depth\", \"latitude\"], griddensity),\n",
    "            temperature =([\"depth\", \"latitude\"], gridtemperature),\n",
    "            salinity =([\"depth\", \"latitude\"], gridsalinity),\n",
    "            oxygen =([\"depth\", \"latitude\"], gridoxygen),\n",
    "            mean_time_shift = ([\"latitude\"], mean_time_shift),\n",
    "            mean_du = ([\"latitude\"],grid_du)),\n",
    "        coords=dict(\n",
    "            depth = depth_gridt,\n",
    "            latitude = lat_gridt,\n",
    "            start_time = start_time,\n",
    "            end_time = end_time,\n",
    "            mid_time = mid_time\n",
    "        ),\n",
    "        attrs={'description': \"Processed geostrophic velocity, temperature, salinity, density, and time shifted oxygen gridded/interpolated onto transect latitude and depth grid\",\n",
    "        # #'start_time': str(np.nanmin(df.ctd_time[df['ctd_time'].notna()])),\n",
    "        # #'end_time': str(np.nanmax(df.ctd_time[df['ctd_time'].notna()])),\n",
    "        # 'start_time': str(np.nanmin(pd.to_datetime(df.ctd_time))),\n",
    "        # 'end_time': str(np.nanmax(pd.to_datetime(df.ctd_time))),\n",
    "        # 'mid_time': str(mid_time),\n",
    "        'deployment_name': df.deployment_name.values[0],\n",
    "        'transect_number': df.transect_number.values[0],\n",
    "        'mean_lon': mean_lon,\n",
    "        'geo_dz': geo_dz,\n",
    "        'dy': dy}\n",
    "    )\n",
    "\n",
    "    return geo_grid_ds\n",
    "\n",
    "\n"
   ]
  },
  {
   "attachments": {},
   "cell_type": "markdown",
   "metadata": {},
   "source": [
    "## Load data for subsetting transects"
   ]
  },
  {
   "cell_type": "code",
   "execution_count": 3,
   "metadata": {},
   "outputs": [],
   "source": [
    "# x=1\n",
    "# deployments = sorted(glob.glob('/Users/joegradone/SynologyDrive/Drive/Rutgers/Research/data/Glider/AOML_Data/Processed/*/', recursive=True))\n",
    "# deployment_files = glob.glob(''.join([deployments[x],\"*.csv\"]))\n",
    "# deploy_df = pd.concat((pd.read_csv(f) for f in deployment_files), ignore_index=True)\n",
    "# deploy_df.set_index('ctd_time', inplace=True)\n",
    "# print(deployments[x])\n",
    "# print(deploy_df.index.min())\n",
    "# print(deploy_df.index.max())"
   ]
  },
  {
   "cell_type": "code",
   "execution_count": 4,
   "metadata": {},
   "outputs": [],
   "source": [
    "# ## For one range\n",
    "# mask = (((deploy_df.index >= '2022-07-02') & (deploy_df.index <= '2022-07-18')))\n",
    "\n",
    "# ## For more than one range\n",
    "# # mask = (((deploy_df.index >= '2017-08-28') & (deploy_df.index <= '2017-10-02'))\n",
    "# #         | ((deploy_df.index >= '2015-08-26') & (deploy_df.index < '2015-04-14')))\n",
    "\n",
    "# subset_df = deploy_df.loc[mask]\n",
    "\n",
    "\n",
    "# ## Map extent\n",
    "# lon1 = -72\n",
    "# lon2 = -63\n",
    "# lat1 = 15\n",
    "# lat2 = 22\n",
    "\n",
    "# fig = plt.figure(figsize=(30,15))\n",
    "# ax = plt.axes(projection=ccrs.PlateCarree())\n",
    "# ax.coastlines()\n",
    "# ax.set_extent([lon1, lon2, lat1, lat2])\n",
    "# LAND = cfeature.NaturalEarthFeature(\n",
    "#     'physical', 'land', '10m',\n",
    "#     edgecolor='black',\n",
    "#     facecolor='tan'\n",
    "# )\n",
    "# ax.add_feature(LAND, zorder=0)\n",
    "\n",
    "# plt.plot(subset_df.longitude.values,subset_df.latitude.values,'.',markersize=1)\n",
    "# gl = ax.gridlines(crs=ccrs.PlateCarree(), draw_labels=True,\n",
    "#                   linewidth=2, color='gray', alpha=0.5, linestyle='--')\n",
    "# gl.ylocator = mticker.FixedLocator([15.25, 15.5, 15.75, 16, 16.25, 16.5, 16.75, 17, 17.25, 17.5, 17.75, 18, 18.25, 18.5, 18.75, 19, 19.25, 19.5, 19.75, 20, 20.25, 20.5, 20.75, 21, 21.25, 21.5, 21.75])\n"
   ]
  },
  {
   "attachments": {},
   "cell_type": "markdown",
   "metadata": {},
   "source": [
    "## Create Dictionary"
   ]
  },
  {
   "cell_type": "code",
   "execution_count": 5,
   "metadata": {},
   "outputs": [],
   "source": [
    "# subset_dict = {'SG609-M02FEB2015': {'start1': '2015-02-09', 'end1': '2015-02-21', 'start2': '2015-02-27', 'end2': '2015-04-13'},\n",
    "#                 'SG609-M03JUL2015': {'start1': '2015-07-19', 'end1': '2015-08-11', 'start2': '2015-09-23', 'end2': '2015-10-02'},\n",
    "#                 'SG609-M04MAR2016': {'start1': '2016-03-19', 'end1': '2016-04-01', 'start2': '2016-04-09', 'end2': '2016-04-24'},\n",
    "#                 'SG609-M05JUL2016': {'start1': '2016-08-02', 'end1': '2016-08-12', 'start2': '2016-08-12', 'end2': '2016-08-28', 'start3': '2016-08-28', 'end3': '2016-09-06', 'start4': '2016-09-06', 'end4': '2016-09-29'},\n",
    "#                 'SG610-M02FEB2015': {'start1': '2015-02-14', 'end1': '2015-02-25', 'start2': '2015-03-02', 'end2': '2015-04-14'},\n",
    "#                 'SG610-M03JUL2015': {'start1': '2015-08-11', 'end1': '2015-08-21', 'start2': '2015-09-05', 'end2': '2015-09-17', 'start3': '2015-09-22', 'end3': '2015-10-02', 'start4': '2015-10-08', 'end4': '2015-10-20', 'start5': '2015-10-21', 'end5': '2015-11-18'},\n",
    "#                 'SG610-M07JUL2017': {'start1': '2017-07-21', 'end1': '2017-08-05', 'start2': '2017-08-05', 'end2': '2017-08-28'},\n",
    "#                 'SG610-M08JUL2018': {'start1': '2018-07-20', 'end1': '2018-08-11', 'start2': '2018-08-13', 'end2': '2018-08-25', 'start3': '2018-08-25', 'end3': '2018-09-09', 'start4': '2018-09-09', 'end4': '2018-09-31'},\n",
    "#                 'SG610-M10JUL2020': {'start1': '2020-07-24', 'end1': '2020-08-17', 'start2': '2020-08-17', 'end2': '2020-08-30', 'start3': '2020-08-30', 'end3': '2020-09-18', 'start4': '2020-09-18', 'end4': '2020-10-02'},\n",
    "#                 'SG610-M12JUL2022': {'start1': '2022-06-27', 'end1': '2022-07-14'},\n",
    "#                 'SG630-M08JUL2018': {'start1': '2018-08-02', 'end1': '2018-08-14', 'start2': '2018-08-14', 'end2': '2018-08-20', 'start3': '2018-08-20', 'end3': '2018-08-29', 'start4': '2018-09-19', 'end4': '2018-09-31'},\n",
    "#                 'SG630-M10JUL2020': {'start1': '2020-08-22', 'end1': '2020-09-03', 'start2': '2020-09-03', 'end2': '2020-09-25'},\n",
    "#                 'SG635-M08JUL2018': {'start1': '2018-07-25', 'end1': '2018-08-04', 'start2': '2018-08-04', 'end2': '2018-08-20', 'start3': '2018-08-20', 'end3': '2018-09-01', 'start4': '2018-09-01', 'end4': '2018-09-09'},\n",
    "#                 'SG635-M10JUL2020': {'start1': '2020-07-22', 'end1': '2020-08-22', 'start2': '2020-08-22', 'end2': '2020-09-13', 'start3': '2020-09-13', 'end3': '2020-09-29', 'start4': '2020-09-29', 'end4': '2020-10-13'},\n",
    "#                 'SG635-M12JUL2022': {'start1': '2022-06-23', 'end1': '2022-07-05', 'start2': '2022-07-05', 'end2': '2022-07-18'},\n",
    "#                 'SG649-M08JUL2018': {'start1': '2018-08-07', 'end1': '2018-08-31'},\n",
    "#                 'SG649-M10JUL2020': {'start1': '2020-07-15', 'end1': '2020-08-15', 'start2': '2020-08-15', 'end2': '2020-09-03', 'start3': '2020-09-03', 'end3': '2020-09-19', 'start4': '2020-09-19', 'end4': '2020-10-05'},\n",
    "#                 'SG649-M11JUL2021': {'start1': '2021-06-22', 'end1': '2021-07-22', 'start2': '2021-07-22', 'end2': '2021-08-18', 'start3': '2021-08-18', 'end3': '2021-09-16', 'start4': '2021-09-16', 'end4': '2021-10-08'},\n",
    "#                 'SG663-M09JUL2019': {'start1': '2019-07-24', 'end1': '2019-08-09', 'start2': '2019-08-09', 'end2': '2019-08-20', 'start3': '2019-09-07', 'end3': '2019-09-15', 'start4': '2019-09-30', 'end4': '2019-10-12'},\n",
    "#                 'SG663-M10JUL2020': {'start1': '2020-07-21', 'end1': '2020-08-10', 'start2': '2020-08-15', 'end2': '2020-08-27', 'start3': '2020-09-02', 'end3': '2020-09-16', 'start4': '2020-09-21', 'end4': '2020-10-04'},\n",
    "#                 'SG663-M11JUL2021': {'start1': '2021-06-20', 'end1': '2021-06-30', 'start2': '2021-07-01', 'end2': '2021-07-17', 'start3': '2021-07-18', 'end3': '2021-08-06', 'start4': '2021-08-06', 'end4': '2021-08-18', 'start5': '2021-08-18', 'end5': '2021-09-06', 'start6': '2021-09-06', 'end6': '2021-09-28', 'start7': '2021-09-29', 'end7': '2021-10-05'},\n",
    "#                 'SG664-M09JUL2019': {'start1': '2019-07-28', 'end1': '2019-08-15', 'start2': '2019-09-07', 'end2': '2019-09-30', 'start3': '2019-09-30', 'end3': '2019-10-11', 'start4': '2019-10-11', 'end4': '2019-10-25'},\n",
    "#                 'SG664-M10JUL2020': {'start1': '2020-07-22', 'end1': '2020-08-11', 'start2': '2020-08-11', 'end2': '2020-08-27', 'start3': '2020-08-27', 'end3': '2020-09-16', 'start4': '2020-09-16', 'end4': '2020-09-30'},\n",
    "#                 'SG665-M09JUL2019': {'start1': '2019-07-18', 'end1': '2019-08-11', 'start2': '2019-08-11', 'end2': '2019-08-27', 'start3': '2019-09-07', 'end3': '2019-09-16', 'start4': '2019-09-17', 'end4': '2019-10-08', 'start5': '2019-10-08', 'end5': '2019-11-03'},\n",
    "#                 'SG665-M10JUL2020': {'start1': '2020-07-21', 'end1': '2020-08-13', 'start2': '2020-08-19', 'end2': '2020-09-11', 'start3': '2020-09-11', 'end3': '2020-09-27', 'start4': '2020-09-27', 'end4': '2020-10-16'},\n",
    "#                 'SG666-M09JUL2019': {'start1': '2019-07-25', 'end1': '2019-08-15', 'start2': '2019-08-15', 'end2': '2019-08-27', 'start3': '2019-09-16', 'end3': '2019-10-08', 'start4': '2019-10-08', 'end4': '2019-10-20'},\n",
    "#                 'SG667-M09JUL2019': {'start1': '2019-09-06', 'end1': '2019-10-02', 'start2': '2019-10-08', 'end2': '2019-10-29'},\n",
    "#                 'SG667-M11JUL2021': {'start1': '2021-07-24', 'end1': '2021-08-05', 'start2': '2021-08-05', 'end2': '2021-08-23', 'start3': '2021-08-23', 'end3': '2021-09-12', 'start4': '2021-09-12', 'end4': '2021-09-28'},\n",
    "#                 'SG667-M12JUL2022': {'start1': '2022-07-08', 'end1': '2022-07-18'},\n",
    "#                 'SG668-M09JUL2019': {'start1': '2019-09-12', 'end1': '2019-09-19', 'start2': '2019-09-30', 'end2': '2019-10-09'},\n",
    "#                 'SG668-M11JUL2021': {'start1': '2021-06-24', 'end1': '2021-07-10', 'start2': '2021-07-10', 'end2': '2021-07-21', 'start3': '2021-07-21', 'end3': '2021-07-30', 'start4': '2021-07-30', 'end4': '2021-08-13', 'start5': '2021-08-13', 'end5': '2021-08-24', 'start6': '2021-08-24', 'end6': '2021-09-04', 'start7': '2021-09-04', 'end7': '2021-09-19', 'start8': '2021-09-19', 'end8': '2021-09-29'},\n",
    "#                 'SG669-M11JUL2021': {'start1': '2021-07-07', 'end1': '2021-08-01', 'start2': '2021-08-01', 'end2': '2021-08-30', 'start3': '2021-08-30', 'end3': '2021-09-22', 'start4': '2021-09-22', 'end4': '2021-10-17'},\n",
    "#                 'SG678-M11JUL2021': {'start1': '2021-06-28', 'end1': '2021-07-23', 'start2': '2021-07-23', 'end2': '2021-08-04', 'start3': '2021-08-04', 'end3': '2021-08-22', 'start4': '2021-08-22', 'end4': '2021-09-11', 'start5': '2021-09-11', 'end5': '2021-09-20', 'start6': '2021-09-20', 'end6': '2021-10-07'},\n",
    "#                 'SG678-M12JUL2022': {'start1': '2022-07-02', 'end1': '2022-07-18'}\n",
    "# }\n",
    "# subset_dict\n",
    "\n",
    "# #'': {'start1': '', 'end1': '', 'start2': '', 'end2': '', 'start3': '', 'end3': '', 'start4': '', 'end4': ''}"
   ]
  },
  {
   "attachments": {},
   "cell_type": "markdown",
   "metadata": {},
   "source": [
    "## Save Dictionary as a .pkl file"
   ]
  },
  {
   "cell_type": "code",
   "execution_count": 6,
   "metadata": {},
   "outputs": [],
   "source": [
    "## Save\n",
    "# with open('/Users/joegradone/SynologyDrive/Drive/Rutgers/Research/data/Glider/AOML_Data/AOML_transects_dictionary.pkl', 'wb') as f:\n",
    "#     pickle.dump(subset_dict, f)\n",
    "\n",
    "# ## Load       \n",
    "# with open('/Users/joegradone/SynologyDrive/Drive/Rutgers/Research/data/Glider/AOML_Data/AOML_transects_dictionary.pkl', 'rb') as f:\n",
    "#     subset_dict = pickle.load(f)"
   ]
  },
  {
   "attachments": {},
   "cell_type": "markdown",
   "metadata": {},
   "source": [
    "## Load all data"
   ]
  },
  {
   "cell_type": "code",
   "execution_count": 7,
   "metadata": {},
   "outputs": [],
   "source": [
    "# ## path to processed data\n",
    "# files = glob.glob('/Users/joegradone/SynologyDrive/Drive/Rutgers/Research/data/Glider/AOML_Data/Processed/*/*.csv', recursive=True)\n",
    "\n",
    "# full_df = pd.concat((pd.read_csv(f) for f in files), ignore_index=True)\n",
    "\n",
    "# full_df.set_index('ctd_time', inplace=True)\n"
   ]
  },
  {
   "cell_type": "markdown",
   "metadata": {},
   "source": [
    "## Make a map of full dataset"
   ]
  },
  {
   "cell_type": "code",
   "execution_count": 8,
   "metadata": {},
   "outputs": [],
   "source": [
    "# ## Map extent\n",
    "# lon1 = -72\n",
    "# lon2 = -63\n",
    "# lat1 = 15\n",
    "# lat2 = 22\n",
    "\n",
    "# fig = plt.figure(figsize=(10,20))\n",
    "# ax = plt.axes(projection=ccrs.PlateCarree())\n",
    "# ax.coastlines()\n",
    "# ax.set_extent([lon1, lon2, lat1, lat2])\n",
    "# LAND = cfeature.NaturalEarthFeature(\n",
    "#     'physical', 'land', '10m',\n",
    "#     edgecolor='black',\n",
    "#     facecolor='tan'\n",
    "# )\n",
    "# ax.add_feature(LAND, zorder=0)\n",
    "\n",
    "# plt.plot(full_df.longitude.values,full_df.latitude.values,'.')\n",
    "# gl = ax.gridlines(crs=ccrs.PlateCarree(), draw_labels=True,\n",
    "#                   linewidth=2, color='gray', alpha=0.5, linestyle='--')"
   ]
  },
  {
   "cell_type": "markdown",
   "metadata": {},
   "source": [
    "## Load just the transects"
   ]
  },
  {
   "cell_type": "code",
   "execution_count": 9,
   "metadata": {},
   "outputs": [],
   "source": [
    "# #x=3\n",
    "\n",
    "# ## Loop through all of the deployments\n",
    "# deployments = sorted(glob.glob('/Users/joegradone/SynologyDrive/Drive/Rutgers/Research/data/Glider/AOML_Data/Processed/*/', recursive=True))\n",
    "\n",
    "# ## Initialize counter for creating transect_number variable in dataframes\n",
    "# transect_number = int()\n",
    "\n",
    "# for x in np.arange(0,len(deployments)):\n",
    "#     ## Pull out all files from a deployment\n",
    "#     deployment_files = glob.glob(''.join([deployments[x],\"*.csv\"]))\n",
    "#     ## Load all files from a deployment\n",
    "#     dft = pd.concat((pd.read_csv(f) for f in deployment_files), ignore_index=True)\n",
    "\n",
    "#     ## Specific deployment name\n",
    "#     fname = deployment_files[0][-25:-9]\n",
    "\n",
    "#     ## Now loop through all of the subsetted transects in a deployment here\n",
    "#     ## ONLY the even indicies because doing start and end\n",
    "    \n",
    "#     for y in np.arange(0,len(subset_dict[fname]),2):\n",
    "#         ## Start at 1 because 0 is dumb, add one through each iteration of the loop\n",
    "#         ## This is initialized outside of the main loop so its value is retained through the iterations\n",
    "#         ## of this nested loop.\n",
    "#         transect_number+=1\n",
    "\n",
    "#         ## Need this because can't combine xarray ds is one doesn't exist, so after first, concat to existing ds\n",
    "#         if y == 0:\n",
    "#             ## Pull out start and end times\n",
    "#             start_tm = list(subset_dict[fname].items())[y][1]\n",
    "#             end_tm   = list(subset_dict[fname].items())[y+1][1]\n",
    "#             ## Mask for data we want\n",
    "#             mask = (((dft.ctd_time >= start_tm) & (dft.ctd_time <= end_tm)))\n",
    "#             ## Subset to just that data\n",
    "#             subset_df = dft.loc[mask]\n",
    "#             ## Create transect # variable\n",
    "#             subset_df['transect_number'] = transect_number\n",
    "#             ## Create deployment name variable\n",
    "#             subset_df['deployment_name'] = fname\n",
    "#             ## Make the transect # the index\n",
    "#             subset_df.set_index('transect_number', inplace=True)\n",
    "#             ## Turn into an xarray dataset\n",
    "#             subset_ds = subset_df.to_xarray()\n",
    "        \n",
    "#         ## Past first iteration, concat to existing ds\n",
    "#         else:\n",
    "#             ## Pull out start and end times\n",
    "#             start_tm = list(subset_dict[fname].items())[y][1]\n",
    "#             end_tm   = list(subset_dict[fname].items())[y+1][1]\n",
    "#             ## Mask for data we want\n",
    "#             mask = (((dft.ctd_time >= start_tm) & (dft.ctd_time <= end_tm)))\n",
    "#             ## Subset to just that data\n",
    "#             subset_df2 = dft.loc[mask]\n",
    "#             ## Create transect # variable\n",
    "#             subset_df2['transect_number'] = transect_number\n",
    "#             ## Create deployment name variable\n",
    "#             subset_df2['deployment_name'] = fname\n",
    "#             ## Make the transect # the index\n",
    "#             subset_df2.set_index('transect_number', inplace=True)\n",
    "#             ## Turn into an xarray dataset\n",
    "#             subset_ds2 = subset_df2.to_xarray()\n",
    "#             ## Concat to existing ds\n",
    "#             subset_ds = xr.concat([subset_ds, subset_ds2], dim='transect_number')\n",
    "    \n",
    "#     ## Need this because can't combine xarray ds is one doesn't exist, so after first, concat to existing ds\n",
    "#     if x ==0:\n",
    "#         tot_transects_ds = subset_ds\n",
    "#     ## Past first iteration, concat to existing ds\n",
    "#     else:\n",
    "#         tot_transects_ds = xr.concat([tot_transects_ds,subset_ds], dim='transect_number')\n",
    "#     print('done deployment #',x, 'out of', len(deployments))\n"
   ]
  },
  {
   "cell_type": "code",
   "execution_count": 10,
   "metadata": {},
   "outputs": [],
   "source": [
    "# ## Loop through all of the deployments\n",
    "# deployments = sorted(glob.glob('/Users/joegradone/SynologyDrive/Drive/Rutgers/Research/data/Glider/AOML_Data/Processed/*/', recursive=True))\n",
    "\n",
    "# ## Initialize dataframe\n",
    "# tot_transects_df = []\n",
    "\n",
    "# ## Initialize counter for creating transect_number variable in dataframes\n",
    "# transect_number = int()\n",
    "\n",
    "# for x in np.arange(0,len(deployments)):\n",
    "#     ## Pull out all files from a deployment\n",
    "#     deployment_files = glob.glob(''.join([deployments[x],\"*.csv\"]))\n",
    "#     ## Load all files from a deployment\n",
    "#     dft = pd.concat((pd.read_csv(f) for f in deployment_files), ignore_index=True)\n",
    "\n",
    "#     ## Specific deployment name\n",
    "#     fname = deployment_files[0][-25:-9]\n",
    "\n",
    "#     ## Now loop through all of the subsetted transects in a deployment here\n",
    "#     ## ONLY the even indicies because doing start and end\n",
    "    \n",
    "#     for y in np.arange(0,len(subset_dict[fname]),2):\n",
    "#         ## Start at 1 because 0 is dumb, add one through each iteration of the loop\n",
    "#         ## This is initialized outside of the main loop so its value is retained through the iterations\n",
    "#         ## of this nested loop.\n",
    "#         transect_number+=1\n",
    "\n",
    "#         ## Pull out start and end times\n",
    "#         start_tm = list(subset_dict[fname].items())[y][1]\n",
    "#         end_tm   = list(subset_dict[fname].items())[y+1][1]\n",
    "#         ## Mask for data we want\n",
    "#         mask = (((dft.ctd_time >= start_tm) & (dft.ctd_time <= end_tm)))\n",
    "#         ## Subset to just that data\n",
    "#         subset_df = dft.loc[mask]\n",
    "#         ## Create transect # variable\n",
    "#         subset_df['transect_number'] = transect_number\n",
    "#         ## Create deployment name variable\n",
    "#         subset_df['deployment_name'] = fname\n",
    "#         ## Make the transect # the index\n",
    "#         subset_df.set_index('ctd_time', inplace=True)\n",
    "\n",
    "#         if ((x==0) and (y==0)):\n",
    "#             tot_transect_df = subset_df\n",
    "#             print('done deployment #',x, 'out of', len(deployments))\n",
    "#         else:\n",
    "#             tot_transect_df = pd.concat([tot_transect_df,subset_df])\n",
    "#             print('done deployment #',x, 'out of', len(deployments))\n"
   ]
  },
  {
   "cell_type": "code",
   "execution_count": 11,
   "metadata": {},
   "outputs": [],
   "source": [
    "## Save data (this takes ~3 min)\n",
    "# tot_transect_df.to_csv('/Users/joegradone/SynologyDrive/Drive/Rutgers/Research/data/Glider/AOML_Data/AOML_data_subset_transects.csv')  "
   ]
  },
  {
   "cell_type": "code",
   "execution_count": 30,
   "metadata": {},
   "outputs": [],
   "source": [
    "## Load total dataframe (this takes ~30 seconds)\n",
    "tot_transect_df = pd.read_csv('/Users/joegradone/SynologyDrive/Drive/Rutgers/Research/data/Glider/AOML_Data/AOML_data_subset_transects.csv')"
   ]
  },
  {
   "cell_type": "code",
   "execution_count": 31,
   "metadata": {},
   "outputs": [
    {
     "data": {
      "text/html": [
       "<div>\n",
       "<style scoped>\n",
       "    .dataframe tbody tr th:only-of-type {\n",
       "        vertical-align: middle;\n",
       "    }\n",
       "\n",
       "    .dataframe tbody tr th {\n",
       "        vertical-align: top;\n",
       "    }\n",
       "\n",
       "    .dataframe thead th {\n",
       "        text-align: right;\n",
       "    }\n",
       "</style>\n",
       "<table border=\"1\" class=\"dataframe\">\n",
       "  <thead>\n",
       "    <tr style=\"text-align: right;\">\n",
       "      <th></th>\n",
       "      <th>ctd_time</th>\n",
       "      <th>ctd_pressure</th>\n",
       "      <th>aanderaa4831_dissolved_oxygen_shifted</th>\n",
       "      <th>downs</th>\n",
       "      <th>longitude</th>\n",
       "      <th>latitude</th>\n",
       "      <th>temperature</th>\n",
       "      <th>salinity</th>\n",
       "      <th>density</th>\n",
       "      <th>aanderaa4831_dissolved_oxygen</th>\n",
       "      <th>du</th>\n",
       "      <th>dv</th>\n",
       "      <th>su</th>\n",
       "      <th>sv</th>\n",
       "      <th>time_shift</th>\n",
       "      <th>transect_number</th>\n",
       "      <th>deployment_name</th>\n",
       "    </tr>\n",
       "  </thead>\n",
       "  <tbody>\n",
       "    <tr>\n",
       "      <th>0</th>\n",
       "      <td>2015-02-09 08:21:40</td>\n",
       "      <td>1.278298</td>\n",
       "      <td>192.300091</td>\n",
       "      <td>1.0</td>\n",
       "      <td>NaN</td>\n",
       "      <td>NaN</td>\n",
       "      <td>NaN</td>\n",
       "      <td>NaN</td>\n",
       "      <td>NaN</td>\n",
       "      <td>NaN</td>\n",
       "      <td>NaN</td>\n",
       "      <td>NaN</td>\n",
       "      <td>NaN</td>\n",
       "      <td>NaN</td>\n",
       "      <td>49</td>\n",
       "      <td>1</td>\n",
       "      <td>SG609-M02FEB2015</td>\n",
       "    </tr>\n",
       "    <tr>\n",
       "      <th>1</th>\n",
       "      <td>2015-02-09 08:21:49</td>\n",
       "      <td>1.321579</td>\n",
       "      <td>192.386667</td>\n",
       "      <td>1.0</td>\n",
       "      <td>-67.465350</td>\n",
       "      <td>17.555617</td>\n",
       "      <td>26.974641</td>\n",
       "      <td>NaN</td>\n",
       "      <td>NaN</td>\n",
       "      <td>NaN</td>\n",
       "      <td>0.003769</td>\n",
       "      <td>-0.047933</td>\n",
       "      <td>-1.881567</td>\n",
       "      <td>-16.145390</td>\n",
       "      <td>49</td>\n",
       "      <td>1</td>\n",
       "      <td>SG609-M02FEB2015</td>\n",
       "    </tr>\n",
       "    <tr>\n",
       "      <th>2</th>\n",
       "      <td>2015-02-09 08:21:59</td>\n",
       "      <td>1.778545</td>\n",
       "      <td>192.418361</td>\n",
       "      <td>1.0</td>\n",
       "      <td>-67.465350</td>\n",
       "      <td>17.555612</td>\n",
       "      <td>26.975472</td>\n",
       "      <td>NaN</td>\n",
       "      <td>NaN</td>\n",
       "      <td>NaN</td>\n",
       "      <td>0.003769</td>\n",
       "      <td>-0.047933</td>\n",
       "      <td>-1.881567</td>\n",
       "      <td>-16.145390</td>\n",
       "      <td>49</td>\n",
       "      <td>1</td>\n",
       "      <td>SG609-M02FEB2015</td>\n",
       "    </tr>\n",
       "    <tr>\n",
       "      <th>3</th>\n",
       "      <td>2015-02-09 08:22:18</td>\n",
       "      <td>3.029667</td>\n",
       "      <td>192.387976</td>\n",
       "      <td>1.0</td>\n",
       "      <td>-67.465349</td>\n",
       "      <td>17.555604</td>\n",
       "      <td>26.984981</td>\n",
       "      <td>NaN</td>\n",
       "      <td>NaN</td>\n",
       "      <td>NaN</td>\n",
       "      <td>0.003769</td>\n",
       "      <td>-0.047933</td>\n",
       "      <td>-1.881567</td>\n",
       "      <td>-16.145390</td>\n",
       "      <td>49</td>\n",
       "      <td>1</td>\n",
       "      <td>SG609-M02FEB2015</td>\n",
       "    </tr>\n",
       "    <tr>\n",
       "      <th>4</th>\n",
       "      <td>2015-02-09 08:22:28</td>\n",
       "      <td>4.100253</td>\n",
       "      <td>192.504311</td>\n",
       "      <td>1.0</td>\n",
       "      <td>-67.465302</td>\n",
       "      <td>17.555602</td>\n",
       "      <td>26.994143</td>\n",
       "      <td>NaN</td>\n",
       "      <td>NaN</td>\n",
       "      <td>NaN</td>\n",
       "      <td>0.003769</td>\n",
       "      <td>-0.047933</td>\n",
       "      <td>-1.881567</td>\n",
       "      <td>-16.145390</td>\n",
       "      <td>49</td>\n",
       "      <td>1</td>\n",
       "      <td>SG609-M02FEB2015</td>\n",
       "    </tr>\n",
       "    <tr>\n",
       "      <th>...</th>\n",
       "      <td>...</td>\n",
       "      <td>...</td>\n",
       "      <td>...</td>\n",
       "      <td>...</td>\n",
       "      <td>...</td>\n",
       "      <td>...</td>\n",
       "      <td>...</td>\n",
       "      <td>...</td>\n",
       "      <td>...</td>\n",
       "      <td>...</td>\n",
       "      <td>...</td>\n",
       "      <td>...</td>\n",
       "      <td>...</td>\n",
       "      <td>...</td>\n",
       "      <td>...</td>\n",
       "      <td>...</td>\n",
       "      <td>...</td>\n",
       "    </tr>\n",
       "    <tr>\n",
       "      <th>10807892</th>\n",
       "      <td>2022-07-07 14:08:22</td>\n",
       "      <td>13.041327</td>\n",
       "      <td>241.704636</td>\n",
       "      <td>0.0</td>\n",
       "      <td>-65.033142</td>\n",
       "      <td>17.011794</td>\n",
       "      <td>28.242144</td>\n",
       "      <td>34.262031</td>\n",
       "      <td>1021.762859</td>\n",
       "      <td>241.776639</td>\n",
       "      <td>-0.081773</td>\n",
       "      <td>0.104027</td>\n",
       "      <td>-35.936865</td>\n",
       "      <td>19.686799</td>\n",
       "      <td>52</td>\n",
       "      <td>117</td>\n",
       "      <td>SG678-M12JUL2022</td>\n",
       "    </tr>\n",
       "    <tr>\n",
       "      <th>10807893</th>\n",
       "      <td>2022-07-07 14:08:31</td>\n",
       "      <td>11.730388</td>\n",
       "      <td>241.883389</td>\n",
       "      <td>0.0</td>\n",
       "      <td>-65.033147</td>\n",
       "      <td>17.011787</td>\n",
       "      <td>28.254553</td>\n",
       "      <td>34.259990</td>\n",
       "      <td>1021.757259</td>\n",
       "      <td>241.690682</td>\n",
       "      <td>-0.081773</td>\n",
       "      <td>0.104027</td>\n",
       "      <td>-35.936865</td>\n",
       "      <td>19.686799</td>\n",
       "      <td>52</td>\n",
       "      <td>117</td>\n",
       "      <td>SG678-M12JUL2022</td>\n",
       "    </tr>\n",
       "    <tr>\n",
       "      <th>10807894</th>\n",
       "      <td>2022-07-07 14:08:42</td>\n",
       "      <td>10.016299</td>\n",
       "      <td>242.055362</td>\n",
       "      <td>0.0</td>\n",
       "      <td>-65.033152</td>\n",
       "      <td>17.011778</td>\n",
       "      <td>28.258000</td>\n",
       "      <td>34.259422</td>\n",
       "      <td>1021.755703</td>\n",
       "      <td>241.742825</td>\n",
       "      <td>-0.081773</td>\n",
       "      <td>0.104027</td>\n",
       "      <td>-35.936865</td>\n",
       "      <td>19.686799</td>\n",
       "      <td>52</td>\n",
       "      <td>117</td>\n",
       "      <td>SG678-M12JUL2022</td>\n",
       "    </tr>\n",
       "    <tr>\n",
       "      <th>10807895</th>\n",
       "      <td>2022-07-07 14:08:52</td>\n",
       "      <td>8.443124</td>\n",
       "      <td>241.966350</td>\n",
       "      <td>0.0</td>\n",
       "      <td>-65.033155</td>\n",
       "      <td>17.011770</td>\n",
       "      <td>28.257050</td>\n",
       "      <td>34.258350</td>\n",
       "      <td>1021.755209</td>\n",
       "      <td>241.782111</td>\n",
       "      <td>-0.081773</td>\n",
       "      <td>0.104027</td>\n",
       "      <td>-35.936865</td>\n",
       "      <td>19.686799</td>\n",
       "      <td>52</td>\n",
       "      <td>117</td>\n",
       "      <td>SG678-M12JUL2022</td>\n",
       "    </tr>\n",
       "    <tr>\n",
       "      <th>10807896</th>\n",
       "      <td>2022-07-07 14:09:02</td>\n",
       "      <td>6.883522</td>\n",
       "      <td>241.985145</td>\n",
       "      <td>0.0</td>\n",
       "      <td>-65.033156</td>\n",
       "      <td>17.011764</td>\n",
       "      <td>28.269207</td>\n",
       "      <td>34.256147</td>\n",
       "      <td>1021.749568</td>\n",
       "      <td>241.734725</td>\n",
       "      <td>-0.081773</td>\n",
       "      <td>0.104027</td>\n",
       "      <td>-35.936865</td>\n",
       "      <td>19.686799</td>\n",
       "      <td>52</td>\n",
       "      <td>117</td>\n",
       "      <td>SG678-M12JUL2022</td>\n",
       "    </tr>\n",
       "  </tbody>\n",
       "</table>\n",
       "<p>10807897 rows × 17 columns</p>\n",
       "</div>"
      ],
      "text/plain": [
       "                     ctd_time  ctd_pressure  \\\n",
       "0         2015-02-09 08:21:40      1.278298   \n",
       "1         2015-02-09 08:21:49      1.321579   \n",
       "2         2015-02-09 08:21:59      1.778545   \n",
       "3         2015-02-09 08:22:18      3.029667   \n",
       "4         2015-02-09 08:22:28      4.100253   \n",
       "...                       ...           ...   \n",
       "10807892  2022-07-07 14:08:22     13.041327   \n",
       "10807893  2022-07-07 14:08:31     11.730388   \n",
       "10807894  2022-07-07 14:08:42     10.016299   \n",
       "10807895  2022-07-07 14:08:52      8.443124   \n",
       "10807896  2022-07-07 14:09:02      6.883522   \n",
       "\n",
       "          aanderaa4831_dissolved_oxygen_shifted  downs  longitude   latitude  \\\n",
       "0                                    192.300091    1.0        NaN        NaN   \n",
       "1                                    192.386667    1.0 -67.465350  17.555617   \n",
       "2                                    192.418361    1.0 -67.465350  17.555612   \n",
       "3                                    192.387976    1.0 -67.465349  17.555604   \n",
       "4                                    192.504311    1.0 -67.465302  17.555602   \n",
       "...                                         ...    ...        ...        ...   \n",
       "10807892                             241.704636    0.0 -65.033142  17.011794   \n",
       "10807893                             241.883389    0.0 -65.033147  17.011787   \n",
       "10807894                             242.055362    0.0 -65.033152  17.011778   \n",
       "10807895                             241.966350    0.0 -65.033155  17.011770   \n",
       "10807896                             241.985145    0.0 -65.033156  17.011764   \n",
       "\n",
       "          temperature   salinity      density  aanderaa4831_dissolved_oxygen  \\\n",
       "0                 NaN        NaN          NaN                            NaN   \n",
       "1           26.974641        NaN          NaN                            NaN   \n",
       "2           26.975472        NaN          NaN                            NaN   \n",
       "3           26.984981        NaN          NaN                            NaN   \n",
       "4           26.994143        NaN          NaN                            NaN   \n",
       "...               ...        ...          ...                            ...   \n",
       "10807892    28.242144  34.262031  1021.762859                     241.776639   \n",
       "10807893    28.254553  34.259990  1021.757259                     241.690682   \n",
       "10807894    28.258000  34.259422  1021.755703                     241.742825   \n",
       "10807895    28.257050  34.258350  1021.755209                     241.782111   \n",
       "10807896    28.269207  34.256147  1021.749568                     241.734725   \n",
       "\n",
       "                du        dv         su         sv  time_shift  \\\n",
       "0              NaN       NaN        NaN        NaN          49   \n",
       "1         0.003769 -0.047933  -1.881567 -16.145390          49   \n",
       "2         0.003769 -0.047933  -1.881567 -16.145390          49   \n",
       "3         0.003769 -0.047933  -1.881567 -16.145390          49   \n",
       "4         0.003769 -0.047933  -1.881567 -16.145390          49   \n",
       "...            ...       ...        ...        ...         ...   \n",
       "10807892 -0.081773  0.104027 -35.936865  19.686799          52   \n",
       "10807893 -0.081773  0.104027 -35.936865  19.686799          52   \n",
       "10807894 -0.081773  0.104027 -35.936865  19.686799          52   \n",
       "10807895 -0.081773  0.104027 -35.936865  19.686799          52   \n",
       "10807896 -0.081773  0.104027 -35.936865  19.686799          52   \n",
       "\n",
       "          transect_number   deployment_name  \n",
       "0                       1  SG609-M02FEB2015  \n",
       "1                       1  SG609-M02FEB2015  \n",
       "2                       1  SG609-M02FEB2015  \n",
       "3                       1  SG609-M02FEB2015  \n",
       "4                       1  SG609-M02FEB2015  \n",
       "...                   ...               ...  \n",
       "10807892              117  SG678-M12JUL2022  \n",
       "10807893              117  SG678-M12JUL2022  \n",
       "10807894              117  SG678-M12JUL2022  \n",
       "10807895              117  SG678-M12JUL2022  \n",
       "10807896              117  SG678-M12JUL2022  \n",
       "\n",
       "[10807897 rows x 17 columns]"
      ]
     },
     "execution_count": 31,
     "metadata": {},
     "output_type": "execute_result"
    }
   ],
   "source": [
    "tot_transect_df"
   ]
  },
  {
   "cell_type": "code",
   "execution_count": 43,
   "metadata": {},
   "outputs": [],
   "source": [
    "# y=1\n",
    "# mask = (tot_transect_df.transect_number == y)\n",
    "# mid_df = tot_transect_df[mask]\n",
    "\n",
    "# points2plot = 1000\n",
    "\n",
    "# plt.figure(figsize=(7,10))\n",
    "# plt.plot(mid_df.aanderaa4831_dissolved_oxygen[0:points2plot],mid_df.ctd_pressure[0:points2plot],label='uncorrected')\n",
    "# plt.plot(mid_df.aanderaa4831_dissolved_oxygen_shifted[0:points2plot],mid_df.ctd_pressure[0:points2plot],label='corrected')\n",
    "# plt.gca().invert_yaxis()\n",
    "# plt.legend()\n"
   ]
  },
  {
   "cell_type": "markdown",
   "metadata": {},
   "source": [
    "## Now loop through each transect, regrid/inerpolate, calculate geostrophic velocity, and resave dataframe as an xr dataset"
   ]
  },
  {
   "cell_type": "code",
   "execution_count": 220,
   "metadata": {},
   "outputs": [
    {
     "name": "stdout",
     "output_type": "stream",
     "text": [
      "done: 1 out of 117\n",
      "done: 2 out of 117\n",
      "done: 3 out of 117\n",
      "done: 4 out of 117\n",
      "done: 5 out of 117\n",
      "done: 6 out of 117\n",
      "done: 7 out of 117\n",
      "done: 8 out of 117\n",
      "done: 9 out of 117\n",
      "done: 10 out of 117\n",
      "done: 11 out of 117\n",
      "done: 12 out of 117\n",
      "done: 13 out of 117\n",
      "done: 14 out of 117\n",
      "done: 15 out of 117\n",
      "done: 16 out of 117\n",
      "done: 17 out of 117\n",
      "done: 18 out of 117\n",
      "done: 19 out of 117\n"
     ]
    },
    {
     "name": "stderr",
     "output_type": "stream",
     "text": [
      "/Users/joegradone/opt/anaconda3/envs/glider/lib/python3.7/site-packages/ipykernel_launcher.py:45: RuntimeWarning: Mean of empty slice\n"
     ]
    },
    {
     "name": "stdout",
     "output_type": "stream",
     "text": [
      "done: 20 out of 117\n"
     ]
    },
    {
     "name": "stderr",
     "output_type": "stream",
     "text": [
      "/Users/joegradone/opt/anaconda3/envs/glider/lib/python3.7/site-packages/ipykernel_launcher.py:45: RuntimeWarning: Mean of empty slice\n"
     ]
    },
    {
     "name": "stdout",
     "output_type": "stream",
     "text": [
      "done: 21 out of 117\n"
     ]
    },
    {
     "name": "stderr",
     "output_type": "stream",
     "text": [
      "/Users/joegradone/opt/anaconda3/envs/glider/lib/python3.7/site-packages/ipykernel_launcher.py:45: RuntimeWarning: Mean of empty slice\n"
     ]
    },
    {
     "name": "stdout",
     "output_type": "stream",
     "text": [
      "done: 22 out of 117\n",
      "done: 23 out of 117\n",
      "done: 24 out of 117\n"
     ]
    },
    {
     "name": "stderr",
     "output_type": "stream",
     "text": [
      "/Users/joegradone/opt/anaconda3/envs/glider/lib/python3.7/site-packages/ipykernel_launcher.py:45: RuntimeWarning: Mean of empty slice\n"
     ]
    },
    {
     "name": "stdout",
     "output_type": "stream",
     "text": [
      "done: 25 out of 117\n",
      "done: 26 out of 117\n",
      "done: 27 out of 117\n"
     ]
    },
    {
     "name": "stderr",
     "output_type": "stream",
     "text": [
      "/Users/joegradone/opt/anaconda3/envs/glider/lib/python3.7/site-packages/ipykernel_launcher.py:45: RuntimeWarning: Mean of empty slice\n",
      "/Users/joegradone/opt/anaconda3/envs/glider/lib/python3.7/site-packages/ipykernel_launcher.py:45: RuntimeWarning: Mean of empty slice\n",
      "/Users/joegradone/opt/anaconda3/envs/glider/lib/python3.7/site-packages/ipykernel_launcher.py:45: RuntimeWarning: Mean of empty slice\n"
     ]
    },
    {
     "name": "stdout",
     "output_type": "stream",
     "text": [
      "done: 28 out of 117\n",
      "done: 29 out of 117\n",
      "done: 30 out of 117\n",
      "done: 31 out of 117\n",
      "done: 32 out of 117\n",
      "done: 33 out of 117\n",
      "done: 34 out of 117\n",
      "done: 35 out of 117\n",
      "done: 36 out of 117\n",
      "done: 37 out of 117\n",
      "done: 38 out of 117\n",
      "done: 39 out of 117\n",
      "done: 40 out of 117\n",
      "done: 41 out of 117\n",
      "done: 42 out of 117\n",
      "done: 43 out of 117\n",
      "done: 44 out of 117\n"
     ]
    },
    {
     "name": "stderr",
     "output_type": "stream",
     "text": [
      "/Users/joegradone/opt/anaconda3/envs/glider/lib/python3.7/site-packages/ipykernel_launcher.py:45: RuntimeWarning: Mean of empty slice\n",
      "/Users/joegradone/opt/anaconda3/envs/glider/lib/python3.7/site-packages/numpy/core/fromnumeric.py:3441: RuntimeWarning: Mean of empty slice.\n",
      "  out=out, **kwargs)\n",
      "/Users/joegradone/opt/anaconda3/envs/glider/lib/python3.7/site-packages/numpy/core/_methods.py:189: RuntimeWarning: invalid value encountered in double_scalars\n",
      "  ret = ret.dtype.type(ret / rcount)\n"
     ]
    },
    {
     "name": "stdout",
     "output_type": "stream",
     "text": [
      "done: 45 out of 117\n",
      "done: 46 out of 117\n",
      "done: 47 out of 117\n",
      "done: 48 out of 117\n",
      "done: 49 out of 117\n",
      "done: 50 out of 117\n",
      "done: 51 out of 117\n",
      "done: 52 out of 117\n",
      "done: 53 out of 117\n",
      "done: 54 out of 117\n",
      "done: 55 out of 117\n",
      "done: 56 out of 117\n",
      "done: 57 out of 117\n",
      "done: 58 out of 117\n",
      "done: 59 out of 117\n",
      "done: 60 out of 117\n",
      "done: 61 out of 117\n",
      "done: 62 out of 117\n",
      "done: 63 out of 117\n",
      "done: 64 out of 117\n",
      "done: 65 out of 117\n",
      "done: 66 out of 117\n",
      "done: 67 out of 117\n",
      "done: 68 out of 117\n",
      "done: 69 out of 117\n",
      "done: 70 out of 117\n",
      "done: 71 out of 117\n",
      "done: 72 out of 117\n",
      "done: 73 out of 117\n",
      "done: 74 out of 117\n",
      "done: 75 out of 117\n",
      "done: 76 out of 117\n",
      "done: 77 out of 117\n",
      "done: 78 out of 117\n",
      "done: 79 out of 117\n",
      "done: 80 out of 117\n",
      "done: 81 out of 117\n",
      "done: 82 out of 117\n",
      "done: 83 out of 117\n",
      "done: 84 out of 117\n",
      "done: 85 out of 117\n",
      "done: 86 out of 117\n",
      "done: 87 out of 117\n",
      "done: 88 out of 117\n",
      "done: 89 out of 117\n",
      "done: 90 out of 117\n",
      "done: 91 out of 117\n",
      "done: 92 out of 117\n",
      "done: 93 out of 117\n",
      "done: 94 out of 117\n",
      "done: 95 out of 117\n",
      "done: 96 out of 117\n",
      "done: 97 out of 117\n",
      "done: 98 out of 117\n",
      "done: 99 out of 117\n",
      "done: 100 out of 117\n",
      "done: 101 out of 117\n",
      "done: 102 out of 117\n",
      "done: 103 out of 117\n",
      "done: 104 out of 117\n",
      "done: 105 out of 117\n",
      "done: 106 out of 117\n",
      "done: 107 out of 117\n",
      "done: 108 out of 117\n",
      "done: 109 out of 117\n",
      "done: 110 out of 117\n",
      "done: 111 out of 117\n",
      "done: 112 out of 117\n",
      "done: 113 out of 117\n",
      "done: 114 out of 117\n",
      "done: 115 out of 117\n",
      "done: 116 out of 117\n",
      "done: 117 out of 117\n"
     ]
    }
   ],
   "source": [
    "## This takes ~7 minutes\n",
    "tot_transects = len(np.unique(tot_transect_df.transect_number))\n",
    "\n",
    "for y in np.arange(1,tot_transects+1):\n",
    "    ## because pandas is stupid and I don't wan to deal with debugging the weird \"copy of a slice\" error\n",
    "    with ChainedAssignent():\n",
    "        ## subset to just the y transect number\n",
    "        mask = (tot_transect_df.transect_number == y)\n",
    "        mid_df = tot_transect_df[mask]\n",
    "        ## Calculate geostrophic velocity\n",
    "        geo_grid_ds = transect_df_to_transport_ds(mid_df)\n",
    "        ## resave new dataframe\n",
    "        save_name = '/Users/joegradone/SynologyDrive/Drive/Rutgers/Research/data/Glider/AOML_Data/Processed_Transport/transect_number_'+str(geo_grid_ds.attrs['transect_number'])+'.nc'\n",
    "        geo_grid_ds.to_netcdf(save_name)\n",
    "        print('done:',y,'out of',tot_transects)\n",
    "\n",
    "# y=1\n",
    "# ## because pandas is stupid and I don't wan to deal with debugging the weird \"copy of a slice\" error\n",
    "# with ChainedAssignent():\n",
    "#     ## subset to just the y transect number\n",
    "#     mask = (tot_transect_df.transect_number == y)\n",
    "#     mid_df = tot_transect_df[mask]\n",
    "#     ## Calculate geostrophic velocity\n",
    "#     geo_grid_ds = transect_df_to_transport_ds(mid_df)\n",
    "#     save_name = '/Users/joegradone/SynologyDrive/Drive/Rutgers/Research/data/Glider/AOML_Data/Processed_Transport/transect_number_'+str(geo_grid_ds.attrs['transect_number'])+'.nc'\n",
    "#     geo_grid_ds.to_netcdf(save_name)\n",
    "\n",
    "# geo_grid_ds"
   ]
  },
  {
   "cell_type": "code",
   "execution_count": 44,
   "metadata": {},
   "outputs": [],
   "source": [
    "transport_files = sorted(glob.glob('/Users/joegradone/SynologyDrive/Drive/Rutgers/Research/data/Glider/AOML_Data/Processed_Transport/*'))\n",
    "ds = xr.open_dataset(transport_files[0])\n"
   ]
  },
  {
   "cell_type": "code",
   "execution_count": 57,
   "metadata": {},
   "outputs": [
    {
     "data": {
      "text/plain": [
       "Text(0.5, 0, 'Latitude')"
      ]
     },
     "execution_count": 57,
     "metadata": {},
     "output_type": "execute_result"
    },
    {
     "data": {
      "image/png": "[encoded data removed]",
      "text/plain": [
       "<Figure size 1080x720 with 2 Axes>"
      ]
     },
     "metadata": {
      "needs_background": "light"
     },
     "output_type": "display_data"
    }
   ],
   "source": [
    "plt.figure(figsize=(15,10))\n",
    "plt.contourf(ds.latitude,ds.depth,ds.density,cmap=cmo.dense,levels=np.arange(1023,1028,0.1))\n",
    "plt.gca().invert_yaxis()\n",
    "plt.colorbar(label='Density [kg/m^3]')\n",
    "plt.xlabel('Latitude')"
   ]
  },
  {
   "cell_type": "code",
   "execution_count": 58,
   "metadata": {},
   "outputs": [
    {
     "data": {
      "text/plain": [
       "Text(0.5, 0, 'Latitude')"
      ]
     },
     "execution_count": 58,
     "metadata": {},
     "output_type": "execute_result"
    },
    {
     "data": {
      "image/png": "[encoded data removed]",
      "text/plain": [
       "<Figure size 1080x720 with 2 Axes>"
      ]
     },
     "metadata": {
      "needs_background": "light"
     },
     "output_type": "display_data"
    }
   ],
   "source": [
    "plt.figure(figsize=(15,10))\n",
    "plt.contourf(ds.latitude,ds.depth,ds.Vgeo,cmap='RdBu',levels=np.arange(-0.5,0.5,0.01))\n",
    "plt.gca().invert_yaxis()\n",
    "plt.colorbar(label='Geostrophic Velocity [m/s]')\n",
    "plt.xlabel('Latitude')"
   ]
  },
  {
   "cell_type": "code",
   "execution_count": 21,
   "metadata": {},
   "outputs": [],
   "source": [
    "transport_files = sorted(glob.glob('/Users/joegradone/SynologyDrive/Drive/Rutgers/Research/data/Glider/AOML_Data/Processed_Transport/*'))\n",
    "\n",
    "transport_north = np.empty(len(transport_files))\n",
    "transport_north[:] = np.nan\n",
    "transport_north_tm = np.empty(len(transport_files),dtype='datetime64[s]')\n",
    "\n",
    "transport_south = np.empty(len(transport_files))\n",
    "transport_south[:] = np.nan\n",
    "transport_south_tm = np.empty(len(transport_files),dtype='datetime64[s]')\n",
    "\n",
    "\n",
    "for x in np.arange(2,len(transport_files)):\n",
    "    ds = xr.open_dataset(transport_files[x])\n",
    "    if ds.latitude.mean() > 18.35:\n",
    "        transport_north[x] = np.nansum(ds.Vgeo.values*ds.attrs['geo_dz']*ds.attrs['dy'])/(10**6)\n",
    "        transport_north_tm[x] = ds.mid_time.values\n",
    "        ds.close()\n",
    "    else:\n",
    "        transport_south[x] = np.nansum(ds.Vgeo.values*ds.attrs['geo_dz']*ds.attrs['dy'])/(10**6)\n",
    "        transport_south_tm[x] = ds.mid_time.values\n",
    "        ds.close()\n",
    "\n"
   ]
  },
  {
   "cell_type": "code",
   "execution_count": 28,
   "metadata": {},
   "outputs": [
    {
     "data": {
      "text/plain": [
       "-5.0688637042459455"
      ]
     },
     "execution_count": 28,
     "metadata": {},
     "output_type": "execute_result"
    }
   ],
   "source": [
    "np.nanmean(transport_south)"
   ]
  },
  {
   "cell_type": "code",
   "execution_count": 25,
   "metadata": {},
   "outputs": [
    {
     "data": {
      "text/plain": [
       "(-30.0, 30.0)"
      ]
     },
     "execution_count": 25,
     "metadata": {},
     "output_type": "execute_result"
    },
    {
     "data": {
      "image/png": "[encoded data removed]",
      "text/plain": [
       "<Figure size 1008x576 with 1 Axes>"
      ]
     },
     "metadata": {
      "needs_background": "light"
     },
     "output_type": "display_data"
    }
   ],
   "source": [
    "plt.figure(figsize=(14,8))\n",
    "plt.plot(transport_north_tm,transport_north,'.',label='north of passages',markersize=25)\n",
    "plt.plot(transport_south_tm,transport_south,'.',label='south of passages',markersize=25)\n",
    "plt.legend()\n",
    "plt.grid()\n",
    "plt.ylabel('Transport [Sv]')\n",
    "plt.ylim(-30,30)\n"
   ]
  },
  {
   "cell_type": "code",
   "execution_count": null,
   "metadata": {},
   "outputs": [],
   "source": []
  },
  {
   "cell_type": "code",
   "execution_count": null,
   "metadata": {},
   "outputs": [],
   "source": [
    "plt.figure(figsize=(15,10))\n",
    "#plt.contourf(geo_grid_ds.latitude,geo_grid_ds.depth,geo_grid_ds.density,cmap=cmo.dense,levels=np.arange(1022,1028,0.01))\n",
    "plt.pcolormesh(geo_grid_ds.latitude,geo_grid_ds.depth,geo_grid_ds.density,cmap=cmo.dense,vmin=1022,vmax=1028)\n",
    "plt.colorbar()\n",
    "plt.gca().invert_yaxis()\n"
   ]
  },
  {
   "cell_type": "code",
   "execution_count": null,
   "metadata": {},
   "outputs": [],
   "source": [
    "plt.figure(figsize=(15,10))\n",
    "plt.contourf(geo_grid_ds.latitude,geo_grid_ds.depth,geo_grid_ds.Vgeo,cmap='RdBu',levels=np.arange(-0.5,0.5,0.01))\n",
    "plt.colorbar(label='E-W Geostrophic Velocity from Thermal Wind [m/s]')\n",
    "plt.gca().invert_yaxis()\n"
   ]
  },
  {
   "cell_type": "code",
   "execution_count": null,
   "metadata": {},
   "outputs": [],
   "source": []
  },
  {
   "cell_type": "code",
   "execution_count": null,
   "metadata": {},
   "outputs": [],
   "source": [
    "## Map extent\n",
    "lon1 = -72\n",
    "lon2 = -63\n",
    "lat1 = 15\n",
    "lat2 = 22\n",
    "\n",
    "fig = plt.figure(figsize=(10,20))\n",
    "ax = plt.axes(projection=ccrs.PlateCarree())\n",
    "ax.coastlines()\n",
    "ax.set_extent([lon1, lon2, lat1, lat2])\n",
    "LAND = cfeature.NaturalEarthFeature(\n",
    "    'physical', 'land', '10m',\n",
    "    edgecolor='black',\n",
    "    facecolor='tan'\n",
    ")\n",
    "ax.add_feature(LAND, zorder=0)\n",
    "\n",
    "plt.plot(df.longitude.values,df.latitude.values,'.',markersize=2)\n",
    "gl = ax.gridlines(crs=ccrs.PlateCarree(), draw_labels=True,\n",
    "                  linewidth=2, color='gray', alpha=0.5, linestyle='--')\n",
    "\n",
    "\n"
   ]
  },
  {
   "cell_type": "code",
   "execution_count": null,
   "metadata": {},
   "outputs": [],
   "source": []
  },
  {
   "cell_type": "code",
   "execution_count": null,
   "metadata": {},
   "outputs": [],
   "source": []
  },
  {
   "cell_type": "code",
   "execution_count": null,
   "metadata": {},
   "outputs": [],
   "source": []
  },
  {
   "cell_type": "code",
   "execution_count": null,
   "metadata": {},
   "outputs": [],
   "source": []
  },
  {
   "cell_type": "code",
   "execution_count": null,
   "metadata": {},
   "outputs": [],
   "source": []
  },
  {
   "cell_type": "code",
   "execution_count": null,
   "metadata": {},
   "outputs": [],
   "source": [
    "## Map extent\n",
    "lon1 = -72\n",
    "lon2 = -63\n",
    "lat1 = 15\n",
    "lat2 = 22\n",
    "\n",
    "fig = plt.figure(figsize=(10,20))\n",
    "ax = plt.axes(projection=ccrs.PlateCarree())\n",
    "ax.coastlines()\n",
    "ax.set_extent([lon1, lon2, lat1, lat2])\n",
    "LAND = cfeature.NaturalEarthFeature(\n",
    "    'physical', 'land', '10m',\n",
    "    edgecolor='black',\n",
    "    facecolor='tan'\n",
    ")\n",
    "ax.add_feature(LAND, zorder=0)\n",
    "\n",
    "plt.plot(tot_transects_ds.longitude.values,tot_transects_ds.latitude.values,'.',markersize=2)\n",
    "gl = ax.gridlines(crs=ccrs.PlateCarree(), draw_labels=True,\n",
    "                  linewidth=2, color='gray', alpha=0.5, linestyle='--')\n",
    "gl.ylocator = mticker.FixedLocator([18.35])\n",
    "\n",
    "\n"
   ]
  },
  {
   "attachments": {},
   "cell_type": "markdown",
   "metadata": {},
   "source": [
    "## Look at data north and south of the passages"
   ]
  },
  {
   "cell_type": "code",
   "execution_count": null,
   "metadata": {},
   "outputs": [],
   "source": [
    "#north_df = xr.where(tot_transects_ds.latitude > 18.35)]\n",
    "#south_df = tot_transects_ds[dict(tot_transects_ds.latitude < 18.35)]\n",
    "\n",
    "#da.sel(time=slice(\"2000-01-01\", \"2000-01-02\"))\n",
    "\n",
    "north_ind = tot_transects_ds.latitude.values>18.35\n",
    "south_ind = tot_transects_ds.latitude.values<18.35\n"
   ]
  },
  {
   "cell_type": "code",
   "execution_count": null,
   "metadata": {},
   "outputs": [],
   "source": []
  },
  {
   "cell_type": "code",
   "execution_count": null,
   "metadata": {},
   "outputs": [],
   "source": [
    "plt.plot(tot_transects_ds.salinity[north_ind],tot_transects_ds.temperature[north_ind],'.',label='north')\n",
    "plt.plot(tot_transects_ds.salinity[south_ind],tot_transects_ds.temperature[south_ind],'.',label='south')\n",
    "plt.xlim(32,38)\n",
    "plt.legend()"
   ]
  },
  {
   "cell_type": "code",
   "execution_count": null,
   "metadata": {},
   "outputs": [],
   "source": []
  },
  {
   "cell_type": "code",
   "execution_count": null,
   "metadata": {},
   "outputs": [],
   "source": [
    "plt.figure(figsize=(15,10))\n",
    "plt.plot(tot_transects_ds.aanderaa4831_dissolved_oxygen_shifted[south_ind],tot_transects_ds.temperature[south_ind],'.',label='south')\n",
    "plt.plot(tot_transects_ds.aanderaa4831_dissolved_oxygen_shifted[north_ind],tot_transects_ds.temperature[north_ind],'.',label='north')\n",
    "\n",
    "plt.xlim(60,260)\n",
    "plt.legend()\n",
    "plt.xlabel('Oxygen Concentration')\n",
    "plt.ylabel('Temperature')"
   ]
  },
  {
   "cell_type": "code",
   "execution_count": null,
   "metadata": {},
   "outputs": [],
   "source": [
    "# plt.figure(figsize=(20,10))\n",
    "# plt.scatter(np.arange(0,len(deploy_df.index)),deploy_df.ctd_pressure,c=deploy_df.aanderaa4831_dissolved_oxygen_shifted)\n",
    "# plt.colorbar()\n",
    "# plt.gca().invert_yaxis()"
   ]
  },
  {
   "cell_type": "code",
   "execution_count": null,
   "metadata": {},
   "outputs": [],
   "source": []
  }
 ],
 "metadata": {
  "kernelspec": {
   "display_name": "glider",
   "language": "python",
   "name": "python3"
  },
  "language_info": {
   "codemirror_mode": {
    "name": "ipython",
    "version": 3
   },
   "file_extension": ".py",
   "mimetype": "text/x-python",
   "name": "python",
   "nbconvert_exporter": "python",
   "pygments_lexer": "ipython3",
   "version": "3.7.7"
  },
  "orig_nbformat": 4,
  "vscode": {
   "interpreter": {
    "hash": "de18031eac2a8071db354b1db8a4f5e99bf63f992d922baa8bb2048f733b6452"
   }
  }
 },
 "nbformat": 4,
 "nbformat_minor": 2
}
