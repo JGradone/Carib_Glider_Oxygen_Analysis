{
 "cells": [
  {
   "attachments": {},
   "cell_type": "markdown",
   "metadata": {},
   "source": [
    "# OMP Analysis testing\n",
    "\n",
    "The contents of this notebook will perform the following:<br>\n",
    "1)  <br>\n",
    "2) "
   ]
  },
  {
   "cell_type": "markdown",
   "metadata": {},
   "source": []
  }
 ],
 "metadata": {
  "kernelspec": {
   "display_name": "glider",
   "language": "python",
   "name": "python3"
  },
  "language_info": {
   "name": "python",
   "version": "3.7.7 (default, May  6 2020, 04:59:01) \n[Clang 4.0.1 (tags/RELEASE_401/final)]"
  },
  "orig_nbformat": 4,
  "vscode": {
   "interpreter": {
    "hash": "de18031eac2a8071db354b1db8a4f5e99bf63f992d922baa8bb2048f733b6452"
   }
  }
 },
 "nbformat": 4,
 "nbformat_minor": 2
}
